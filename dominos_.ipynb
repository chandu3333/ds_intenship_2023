{
 "cells": [
  {
   "cell_type": "code",
   "execution_count": 1,
   "id": "e3d5731f",
   "metadata": {},
   "outputs": [],
   "source": [
    "import pandas as pd \n",
    "import numpy as np"
   ]
  },
  {
   "cell_type": "code",
   "execution_count": 2,
   "id": "5a21fee7",
   "metadata": {},
   "outputs": [],
   "source": [
    "data = pd.read_csv(r\"/Users/vamsi/Downloads/diminos_data.csv\")"
   ]
  },
  {
   "cell_type": "code",
   "execution_count": 3,
   "id": "5ee1c058",
   "metadata": {},
   "outputs": [
    {
     "data": {
      "text/html": [
       "<div>\n",
       "<style scoped>\n",
       "    .dataframe tbody tr th:only-of-type {\n",
       "        vertical-align: middle;\n",
       "    }\n",
       "\n",
       "    .dataframe tbody tr th {\n",
       "        vertical-align: top;\n",
       "    }\n",
       "\n",
       "    .dataframe thead th {\n",
       "        text-align: right;\n",
       "    }\n",
       "</style>\n",
       "<table border=\"1\" class=\"dataframe\">\n",
       "  <thead>\n",
       "    <tr style=\"text-align: right;\">\n",
       "      <th></th>\n",
       "      <th>order_id</th>\n",
       "      <th>order_placed_at</th>\n",
       "      <th>order_delivered_at</th>\n",
       "    </tr>\n",
       "  </thead>\n",
       "  <tbody>\n",
       "    <tr>\n",
       "      <th>0</th>\n",
       "      <td>1523111</td>\n",
       "      <td>2023-03-01 00:00:59</td>\n",
       "      <td>2023-03-01 00:18:07.443132</td>\n",
       "    </tr>\n",
       "    <tr>\n",
       "      <th>1</th>\n",
       "      <td>1523112</td>\n",
       "      <td>2023-03-01 00:03:59</td>\n",
       "      <td>2023-03-01 00:19:34.925241</td>\n",
       "    </tr>\n",
       "    <tr>\n",
       "      <th>2</th>\n",
       "      <td>1523113</td>\n",
       "      <td>2023-03-01 00:07:22</td>\n",
       "      <td>2023-03-01 00:22:28.291385</td>\n",
       "    </tr>\n",
       "    <tr>\n",
       "      <th>3</th>\n",
       "      <td>1523114</td>\n",
       "      <td>2023-03-01 00:07:47</td>\n",
       "      <td>2023-03-01 00:46:19.019399</td>\n",
       "    </tr>\n",
       "    <tr>\n",
       "      <th>4</th>\n",
       "      <td>1523115</td>\n",
       "      <td>2023-03-01 00:09:03</td>\n",
       "      <td>2023-03-01 00:25:13.619056</td>\n",
       "    </tr>\n",
       "    <tr>\n",
       "      <th>...</th>\n",
       "      <td>...</td>\n",
       "      <td>...</td>\n",
       "      <td>...</td>\n",
       "    </tr>\n",
       "    <tr>\n",
       "      <th>14995</th>\n",
       "      <td>1538106</td>\n",
       "      <td>2023-03-27 23:37:05</td>\n",
       "      <td>2023-03-27 23:52:37.409378</td>\n",
       "    </tr>\n",
       "    <tr>\n",
       "      <th>14996</th>\n",
       "      <td>1538107</td>\n",
       "      <td>2023-03-27 23:47:38</td>\n",
       "      <td>2023-03-28 00:04:22.672912</td>\n",
       "    </tr>\n",
       "    <tr>\n",
       "      <th>14997</th>\n",
       "      <td>1538108</td>\n",
       "      <td>2023-03-27 23:50:16</td>\n",
       "      <td>2023-03-28 00:05:40.676238</td>\n",
       "    </tr>\n",
       "    <tr>\n",
       "      <th>14998</th>\n",
       "      <td>1538109</td>\n",
       "      <td>2023-03-27 23:52:44</td>\n",
       "      <td>2023-03-28 00:08:41.810358</td>\n",
       "    </tr>\n",
       "    <tr>\n",
       "      <th>14999</th>\n",
       "      <td>1538110</td>\n",
       "      <td>2023-03-27 23:58:20</td>\n",
       "      <td>2023-03-28 00:13:42.499311</td>\n",
       "    </tr>\n",
       "  </tbody>\n",
       "</table>\n",
       "<p>15000 rows × 3 columns</p>\n",
       "</div>"
      ],
      "text/plain": [
       "       order_id      order_placed_at          order_delivered_at\n",
       "0       1523111  2023-03-01 00:00:59  2023-03-01 00:18:07.443132\n",
       "1       1523112  2023-03-01 00:03:59  2023-03-01 00:19:34.925241\n",
       "2       1523113  2023-03-01 00:07:22  2023-03-01 00:22:28.291385\n",
       "3       1523114  2023-03-01 00:07:47  2023-03-01 00:46:19.019399\n",
       "4       1523115  2023-03-01 00:09:03  2023-03-01 00:25:13.619056\n",
       "...         ...                  ...                         ...\n",
       "14995   1538106  2023-03-27 23:37:05  2023-03-27 23:52:37.409378\n",
       "14996   1538107  2023-03-27 23:47:38  2023-03-28 00:04:22.672912\n",
       "14997   1538108  2023-03-27 23:50:16  2023-03-28 00:05:40.676238\n",
       "14998   1538109  2023-03-27 23:52:44  2023-03-28 00:08:41.810358\n",
       "14999   1538110  2023-03-27 23:58:20  2023-03-28 00:13:42.499311\n",
       "\n",
       "[15000 rows x 3 columns]"
      ]
     },
     "execution_count": 3,
     "metadata": {},
     "output_type": "execute_result"
    }
   ],
   "source": [
    "data"
   ]
  },
  {
   "cell_type": "code",
   "execution_count": 4,
   "id": "211a7da8",
   "metadata": {},
   "outputs": [
    {
     "name": "stdout",
     "output_type": "stream",
     "text": [
      "<class 'pandas.core.frame.DataFrame'>\n",
      "RangeIndex: 15000 entries, 0 to 14999\n",
      "Data columns (total 3 columns):\n",
      " #   Column              Non-Null Count  Dtype \n",
      "---  ------              --------------  ----- \n",
      " 0   order_id            15000 non-null  int64 \n",
      " 1   order_placed_at     15000 non-null  object\n",
      " 2   order_delivered_at  15000 non-null  object\n",
      "dtypes: int64(1), object(2)\n",
      "memory usage: 351.7+ KB\n"
     ]
    }
   ],
   "source": [
    "data.info()"
   ]
  },
  {
   "cell_type": "code",
   "execution_count": 5,
   "id": "b5706bac",
   "metadata": {},
   "outputs": [],
   "source": [
    "data[['order_placed_at']] = pd.DataFrame(pd.to_datetime(data['order_placed_at']))\n",
    "data[['order_delivered_at']] = pd.DataFrame(pd.to_datetime(data['order_delivered_at']))"
   ]
  },
  {
   "cell_type": "code",
   "execution_count": 6,
   "id": "ad6056ed",
   "metadata": {},
   "outputs": [
    {
     "name": "stdout",
     "output_type": "stream",
     "text": [
      "<class 'pandas.core.frame.DataFrame'>\n",
      "RangeIndex: 15000 entries, 0 to 14999\n",
      "Data columns (total 3 columns):\n",
      " #   Column              Non-Null Count  Dtype         \n",
      "---  ------              --------------  -----         \n",
      " 0   order_id            15000 non-null  int64         \n",
      " 1   order_placed_at     15000 non-null  datetime64[ns]\n",
      " 2   order_delivered_at  15000 non-null  datetime64[ns]\n",
      "dtypes: datetime64[ns](2), int64(1)\n",
      "memory usage: 351.7 KB\n"
     ]
    }
   ],
   "source": [
    "data.info()"
   ]
  },
  {
   "cell_type": "code",
   "execution_count": 7,
   "id": "22c6ae81",
   "metadata": {},
   "outputs": [],
   "source": [
    "data[['ordered_day']] = pd.DataFrame(data['order_placed_at'].dt.day_name())\n",
    "data[['delivered_day']] = pd.DataFrame(data['order_delivered_at'].dt.day_name())"
   ]
  },
  {
   "cell_type": "code",
   "execution_count": 8,
   "id": "d9209bcb",
   "metadata": {},
   "outputs": [
    {
     "data": {
      "text/html": [
       "<div>\n",
       "<style scoped>\n",
       "    .dataframe tbody tr th:only-of-type {\n",
       "        vertical-align: middle;\n",
       "    }\n",
       "\n",
       "    .dataframe tbody tr th {\n",
       "        vertical-align: top;\n",
       "    }\n",
       "\n",
       "    .dataframe thead th {\n",
       "        text-align: right;\n",
       "    }\n",
       "</style>\n",
       "<table border=\"1\" class=\"dataframe\">\n",
       "  <thead>\n",
       "    <tr style=\"text-align: right;\">\n",
       "      <th></th>\n",
       "      <th>order_id</th>\n",
       "      <th>order_placed_at</th>\n",
       "      <th>order_delivered_at</th>\n",
       "      <th>ordered_day</th>\n",
       "      <th>delivered_day</th>\n",
       "    </tr>\n",
       "  </thead>\n",
       "  <tbody>\n",
       "    <tr>\n",
       "      <th>0</th>\n",
       "      <td>1523111</td>\n",
       "      <td>2023-03-01 00:00:59</td>\n",
       "      <td>2023-03-01 00:18:07.443132</td>\n",
       "      <td>Wednesday</td>\n",
       "      <td>Wednesday</td>\n",
       "    </tr>\n",
       "    <tr>\n",
       "      <th>1</th>\n",
       "      <td>1523112</td>\n",
       "      <td>2023-03-01 00:03:59</td>\n",
       "      <td>2023-03-01 00:19:34.925241</td>\n",
       "      <td>Wednesday</td>\n",
       "      <td>Wednesday</td>\n",
       "    </tr>\n",
       "    <tr>\n",
       "      <th>2</th>\n",
       "      <td>1523113</td>\n",
       "      <td>2023-03-01 00:07:22</td>\n",
       "      <td>2023-03-01 00:22:28.291385</td>\n",
       "      <td>Wednesday</td>\n",
       "      <td>Wednesday</td>\n",
       "    </tr>\n",
       "    <tr>\n",
       "      <th>3</th>\n",
       "      <td>1523114</td>\n",
       "      <td>2023-03-01 00:07:47</td>\n",
       "      <td>2023-03-01 00:46:19.019399</td>\n",
       "      <td>Wednesday</td>\n",
       "      <td>Wednesday</td>\n",
       "    </tr>\n",
       "    <tr>\n",
       "      <th>4</th>\n",
       "      <td>1523115</td>\n",
       "      <td>2023-03-01 00:09:03</td>\n",
       "      <td>2023-03-01 00:25:13.619056</td>\n",
       "      <td>Wednesday</td>\n",
       "      <td>Wednesday</td>\n",
       "    </tr>\n",
       "    <tr>\n",
       "      <th>...</th>\n",
       "      <td>...</td>\n",
       "      <td>...</td>\n",
       "      <td>...</td>\n",
       "      <td>...</td>\n",
       "      <td>...</td>\n",
       "    </tr>\n",
       "    <tr>\n",
       "      <th>14995</th>\n",
       "      <td>1538106</td>\n",
       "      <td>2023-03-27 23:37:05</td>\n",
       "      <td>2023-03-27 23:52:37.409378</td>\n",
       "      <td>Monday</td>\n",
       "      <td>Monday</td>\n",
       "    </tr>\n",
       "    <tr>\n",
       "      <th>14996</th>\n",
       "      <td>1538107</td>\n",
       "      <td>2023-03-27 23:47:38</td>\n",
       "      <td>2023-03-28 00:04:22.672912</td>\n",
       "      <td>Monday</td>\n",
       "      <td>Tuesday</td>\n",
       "    </tr>\n",
       "    <tr>\n",
       "      <th>14997</th>\n",
       "      <td>1538108</td>\n",
       "      <td>2023-03-27 23:50:16</td>\n",
       "      <td>2023-03-28 00:05:40.676238</td>\n",
       "      <td>Monday</td>\n",
       "      <td>Tuesday</td>\n",
       "    </tr>\n",
       "    <tr>\n",
       "      <th>14998</th>\n",
       "      <td>1538109</td>\n",
       "      <td>2023-03-27 23:52:44</td>\n",
       "      <td>2023-03-28 00:08:41.810358</td>\n",
       "      <td>Monday</td>\n",
       "      <td>Tuesday</td>\n",
       "    </tr>\n",
       "    <tr>\n",
       "      <th>14999</th>\n",
       "      <td>1538110</td>\n",
       "      <td>2023-03-27 23:58:20</td>\n",
       "      <td>2023-03-28 00:13:42.499311</td>\n",
       "      <td>Monday</td>\n",
       "      <td>Tuesday</td>\n",
       "    </tr>\n",
       "  </tbody>\n",
       "</table>\n",
       "<p>15000 rows × 5 columns</p>\n",
       "</div>"
      ],
      "text/plain": [
       "       order_id     order_placed_at         order_delivered_at ordered_day  \\\n",
       "0       1523111 2023-03-01 00:00:59 2023-03-01 00:18:07.443132   Wednesday   \n",
       "1       1523112 2023-03-01 00:03:59 2023-03-01 00:19:34.925241   Wednesday   \n",
       "2       1523113 2023-03-01 00:07:22 2023-03-01 00:22:28.291385   Wednesday   \n",
       "3       1523114 2023-03-01 00:07:47 2023-03-01 00:46:19.019399   Wednesday   \n",
       "4       1523115 2023-03-01 00:09:03 2023-03-01 00:25:13.619056   Wednesday   \n",
       "...         ...                 ...                        ...         ...   \n",
       "14995   1538106 2023-03-27 23:37:05 2023-03-27 23:52:37.409378      Monday   \n",
       "14996   1538107 2023-03-27 23:47:38 2023-03-28 00:04:22.672912      Monday   \n",
       "14997   1538108 2023-03-27 23:50:16 2023-03-28 00:05:40.676238      Monday   \n",
       "14998   1538109 2023-03-27 23:52:44 2023-03-28 00:08:41.810358      Monday   \n",
       "14999   1538110 2023-03-27 23:58:20 2023-03-28 00:13:42.499311      Monday   \n",
       "\n",
       "      delivered_day  \n",
       "0         Wednesday  \n",
       "1         Wednesday  \n",
       "2         Wednesday  \n",
       "3         Wednesday  \n",
       "4         Wednesday  \n",
       "...             ...  \n",
       "14995        Monday  \n",
       "14996       Tuesday  \n",
       "14997       Tuesday  \n",
       "14998       Tuesday  \n",
       "14999       Tuesday  \n",
       "\n",
       "[15000 rows x 5 columns]"
      ]
     },
     "execution_count": 8,
     "metadata": {},
     "output_type": "execute_result"
    }
   ],
   "source": [
    "data"
   ]
  },
  {
   "cell_type": "code",
   "execution_count": 49,
   "id": "615a048d",
   "metadata": {},
   "outputs": [
    {
     "data": {
      "text/plain": [
       "<AxesSubplot:>"
      ]
     },
     "execution_count": 49,
     "metadata": {},
     "output_type": "execute_result"
    },
    {
     "data": {
      "image/png": "[encoded data removed]",
      "text/plain": [
       "<Figure size 640x480 with 1 Axes>"
      ]
     },
     "metadata": {},
     "output_type": "display_data"
    }
   ],
   "source": [
    "data['ordered_day'].value_counts().plot(kind='barh')"
   ]
  },
  {
   "cell_type": "code",
   "execution_count": 10,
   "id": "22c790e0",
   "metadata": {},
   "outputs": [],
   "source": [
    "data[['time_taken']] = pd.DataFrame(pd.to_timedelta(data['order_delivered_at'] - data['order_placed_at']))"
   ]
  },
  {
   "cell_type": "code",
   "execution_count": 11,
   "id": "d9e2a102",
   "metadata": {},
   "outputs": [],
   "source": [
    "days = [ ]\n",
    "hours = [ ]\n",
    "minutes = [ ]\n",
    "time = []\n",
    "date = []\n",
    "for i in range(len(data)):\n",
    "    days.append(data['time_taken'][i].components.days)\n",
    "    hours.append(data['time_taken'][i].components.hours)\n",
    "    minutes.append(data['time_taken'][i].components.minutes)\n",
    "    time.append(data['order_placed_at'][i].hour)\n",
    "    date.append(data['order_placed_at'][i].day)"
   ]
  },
  {
   "cell_type": "code",
   "execution_count": 12,
   "id": "69788627",
   "metadata": {},
   "outputs": [],
   "source": [
    "data[['days']]= pd.DataFrame(days)\n",
    "data[['hours']]= pd.DataFrame(hours)\n",
    "data[['minutes']]= pd.DataFrame(minutes)\n",
    "data[['time_of_order']] = pd.DataFrame(time)\n",
    "data[['date']] = pd.DataFrame(date)"
   ]
  },
  {
   "cell_type": "code",
   "execution_count": 13,
   "id": "7bb2fb7a",
   "metadata": {
    "scrolled": true
   },
   "outputs": [
    {
     "data": {
      "text/plain": [
       "<AxesSubplot:title={'center':'late deliveries day wise'}>"
      ]
     },
     "execution_count": 13,
     "metadata": {},
     "output_type": "execute_result"
    },
    {
     "data": {
      "image/png": "[encoded data removed]",
      "text/plain": [
       "<Figure size 640x480 with 1 Axes>"
      ]
     },
     "metadata": {},
     "output_type": "display_data"
    }
   ],
   "source": [
    "data[(data['days']>1) | (data['hours']>1) | (data['minutes']>31)]['ordered_day'].value_counts().plot(kind='barh',title='late deliveries day wise')"
   ]
  },
  {
   "cell_type": "code",
   "execution_count": 14,
   "id": "5cef99a6",
   "metadata": {},
   "outputs": [
    {
     "data": {
      "text/html": [
       "<div>\n",
       "<style scoped>\n",
       "    .dataframe tbody tr th:only-of-type {\n",
       "        vertical-align: middle;\n",
       "    }\n",
       "\n",
       "    .dataframe tbody tr th {\n",
       "        vertical-align: top;\n",
       "    }\n",
       "\n",
       "    .dataframe thead th {\n",
       "        text-align: right;\n",
       "    }\n",
       "</style>\n",
       "<table border=\"1\" class=\"dataframe\">\n",
       "  <thead>\n",
       "    <tr style=\"text-align: right;\">\n",
       "      <th></th>\n",
       "      <th>order_id</th>\n",
       "      <th>order_placed_at</th>\n",
       "      <th>order_delivered_at</th>\n",
       "      <th>ordered_day</th>\n",
       "      <th>delivered_day</th>\n",
       "      <th>time_taken</th>\n",
       "      <th>days</th>\n",
       "      <th>hours</th>\n",
       "      <th>minutes</th>\n",
       "      <th>time_of_order</th>\n",
       "      <th>date</th>\n",
       "    </tr>\n",
       "  </thead>\n",
       "  <tbody>\n",
       "    <tr>\n",
       "      <th>4165</th>\n",
       "      <td>1527276</td>\n",
       "      <td>2023-03-08 09:46:43</td>\n",
       "      <td>2023-03-12 11:34:09.085175</td>\n",
       "      <td>Wednesday</td>\n",
       "      <td>Sunday</td>\n",
       "      <td>4 days 01:47:26.085175</td>\n",
       "      <td>4</td>\n",
       "      <td>1</td>\n",
       "      <td>47</td>\n",
       "      <td>9</td>\n",
       "      <td>8</td>\n",
       "    </tr>\n",
       "    <tr>\n",
       "      <th>5499</th>\n",
       "      <td>1528610</td>\n",
       "      <td>2023-03-10 17:06:22</td>\n",
       "      <td>2023-03-15 18:46:11.882496</td>\n",
       "      <td>Friday</td>\n",
       "      <td>Wednesday</td>\n",
       "      <td>5 days 01:39:49.882496</td>\n",
       "      <td>5</td>\n",
       "      <td>1</td>\n",
       "      <td>39</td>\n",
       "      <td>17</td>\n",
       "      <td>10</td>\n",
       "    </tr>\n",
       "    <tr>\n",
       "      <th>10007</th>\n",
       "      <td>1533118</td>\n",
       "      <td>2023-03-19 00:56:34</td>\n",
       "      <td>2023-03-21 00:59:41.454974</td>\n",
       "      <td>Sunday</td>\n",
       "      <td>Tuesday</td>\n",
       "      <td>2 days 00:03:07.454974</td>\n",
       "      <td>2</td>\n",
       "      <td>0</td>\n",
       "      <td>3</td>\n",
       "      <td>0</td>\n",
       "      <td>19</td>\n",
       "    </tr>\n",
       "    <tr>\n",
       "      <th>10225</th>\n",
       "      <td>1533336</td>\n",
       "      <td>2023-03-19 11:07:32</td>\n",
       "      <td>2023-03-22 13:53:25.472592</td>\n",
       "      <td>Sunday</td>\n",
       "      <td>Wednesday</td>\n",
       "      <td>3 days 02:45:53.472592</td>\n",
       "      <td>3</td>\n",
       "      <td>2</td>\n",
       "      <td>45</td>\n",
       "      <td>11</td>\n",
       "      <td>19</td>\n",
       "    </tr>\n",
       "    <tr>\n",
       "      <th>14155</th>\n",
       "      <td>1537266</td>\n",
       "      <td>2023-03-26 09:54:24</td>\n",
       "      <td>2023-03-29 02:42:50.645252</td>\n",
       "      <td>Sunday</td>\n",
       "      <td>Wednesday</td>\n",
       "      <td>2 days 16:48:26.645252</td>\n",
       "      <td>2</td>\n",
       "      <td>16</td>\n",
       "      <td>48</td>\n",
       "      <td>9</td>\n",
       "      <td>26</td>\n",
       "    </tr>\n",
       "  </tbody>\n",
       "</table>\n",
       "</div>"
      ],
      "text/plain": [
       "       order_id     order_placed_at         order_delivered_at ordered_day  \\\n",
       "4165    1527276 2023-03-08 09:46:43 2023-03-12 11:34:09.085175   Wednesday   \n",
       "5499    1528610 2023-03-10 17:06:22 2023-03-15 18:46:11.882496      Friday   \n",
       "10007   1533118 2023-03-19 00:56:34 2023-03-21 00:59:41.454974      Sunday   \n",
       "10225   1533336 2023-03-19 11:07:32 2023-03-22 13:53:25.472592      Sunday   \n",
       "14155   1537266 2023-03-26 09:54:24 2023-03-29 02:42:50.645252      Sunday   \n",
       "\n",
       "      delivered_day             time_taken  days  hours  minutes  \\\n",
       "4165         Sunday 4 days 01:47:26.085175     4      1       47   \n",
       "5499      Wednesday 5 days 01:39:49.882496     5      1       39   \n",
       "10007       Tuesday 2 days 00:03:07.454974     2      0        3   \n",
       "10225     Wednesday 3 days 02:45:53.472592     3      2       45   \n",
       "14155     Wednesday 2 days 16:48:26.645252     2     16       48   \n",
       "\n",
       "       time_of_order  date  \n",
       "4165               9     8  \n",
       "5499              17    10  \n",
       "10007              0    19  \n",
       "10225             11    19  \n",
       "14155              9    26  "
      ]
     },
     "execution_count": 14,
     "metadata": {},
     "output_type": "execute_result"
    }
   ],
   "source": [
    "data[(data['days']>1)]"
   ]
  },
  {
   "cell_type": "code",
   "execution_count": 15,
   "id": "10ac2c78",
   "metadata": {},
   "outputs": [
    {
     "data": {
      "text/html": [
       "<div>\n",
       "<style scoped>\n",
       "    .dataframe tbody tr th:only-of-type {\n",
       "        vertical-align: middle;\n",
       "    }\n",
       "\n",
       "    .dataframe tbody tr th {\n",
       "        vertical-align: top;\n",
       "    }\n",
       "\n",
       "    .dataframe thead th {\n",
       "        text-align: right;\n",
       "    }\n",
       "</style>\n",
       "<table border=\"1\" class=\"dataframe\">\n",
       "  <thead>\n",
       "    <tr style=\"text-align: right;\">\n",
       "      <th></th>\n",
       "      <th>order_id</th>\n",
       "      <th>order_placed_at</th>\n",
       "      <th>order_delivered_at</th>\n",
       "      <th>ordered_day</th>\n",
       "      <th>delivered_day</th>\n",
       "      <th>time_taken</th>\n",
       "      <th>days</th>\n",
       "      <th>hours</th>\n",
       "      <th>minutes</th>\n",
       "      <th>time_of_order</th>\n",
       "      <th>date</th>\n",
       "    </tr>\n",
       "  </thead>\n",
       "  <tbody>\n",
       "    <tr>\n",
       "      <th>4645</th>\n",
       "      <td>1527756</td>\n",
       "      <td>2023-03-09 05:46:55</td>\n",
       "      <td>2023-03-09 06:01:55.000620</td>\n",
       "      <td>Thursday</td>\n",
       "      <td>Thursday</td>\n",
       "      <td>0 days 00:15:00.000620</td>\n",
       "      <td>0</td>\n",
       "      <td>0</td>\n",
       "      <td>15</td>\n",
       "      <td>5</td>\n",
       "      <td>9</td>\n",
       "    </tr>\n",
       "  </tbody>\n",
       "</table>\n",
       "</div>"
      ],
      "text/plain": [
       "      order_id     order_placed_at         order_delivered_at ordered_day  \\\n",
       "4645   1527756 2023-03-09 05:46:55 2023-03-09 06:01:55.000620    Thursday   \n",
       "\n",
       "     delivered_day             time_taken  days  hours  minutes  \\\n",
       "4645      Thursday 0 days 00:15:00.000620     0      0       15   \n",
       "\n",
       "      time_of_order  date  \n",
       "4645              5     9  "
      ]
     },
     "execution_count": 15,
     "metadata": {},
     "output_type": "execute_result"
    }
   ],
   "source": [
    "data[data['time_taken']==data['time_taken'].min()]"
   ]
  },
  {
   "cell_type": "markdown",
   "id": "7f5bff2f",
   "metadata": {},
   "source": [
    "## all the orders day wise"
   ]
  },
  {
   "cell_type": "markdown",
   "id": "31b0e6fb",
   "metadata": {},
   "source": [
    "## FOR MONDAY"
   ]
  },
  {
   "cell_type": "code",
   "execution_count": 16,
   "id": "21bb74a1",
   "metadata": {},
   "outputs": [
    {
     "data": {
      "text/plain": [
       "<AxesSubplot:>"
      ]
     },
     "execution_count": 16,
     "metadata": {},
     "output_type": "execute_result"
    },
    {
     "data": {
      "image/png": "[encoded data removed]",
      "text/plain": [
       "<Figure size 640x480 with 1 Axes>"
      ]
     },
     "metadata": {},
     "output_type": "display_data"
    }
   ],
   "source": [
    "data[data['ordered_day']=='Monday']['time_of_order'].value_counts().plot(kind='bar')\n"
   ]
  },
  {
   "cell_type": "markdown",
   "id": "4b2a2041",
   "metadata": {},
   "source": [
    "## FOR TUESDAY"
   ]
  },
  {
   "cell_type": "code",
   "execution_count": 17,
   "id": "0cab9a6e",
   "metadata": {},
   "outputs": [
    {
     "data": {
      "text/plain": [
       "<AxesSubplot:>"
      ]
     },
     "execution_count": 17,
     "metadata": {},
     "output_type": "execute_result"
    },
    {
     "data": {
      "image/png": "[encoded data removed]",
      "text/plain": [
       "<Figure size 640x480 with 1 Axes>"
      ]
     },
     "metadata": {},
     "output_type": "display_data"
    }
   ],
   "source": [
    "data[data['ordered_day']=='Tuesday']['time_of_order'].value_counts().plot(kind='bar')"
   ]
  },
  {
   "cell_type": "markdown",
   "id": "f6395bd2",
   "metadata": {},
   "source": [
    "## FOR WEDNESDAY"
   ]
  },
  {
   "cell_type": "code",
   "execution_count": 18,
   "id": "a2dd0413",
   "metadata": {},
   "outputs": [
    {
     "data": {
      "text/plain": [
       "<AxesSubplot:>"
      ]
     },
     "execution_count": 18,
     "metadata": {},
     "output_type": "execute_result"
    },
    {
     "data": {
      "image/png": "[encoded data removed]",
      "text/plain": [
       "<Figure size 640x480 with 1 Axes>"
      ]
     },
     "metadata": {},
     "output_type": "display_data"
    }
   ],
   "source": [
    "data[data['ordered_day']=='Wednesday']['time_of_order'].value_counts().plot(kind='bar')"
   ]
  },
  {
   "cell_type": "markdown",
   "id": "f906fda8",
   "metadata": {},
   "source": [
    "## FOR THURSDAY"
   ]
  },
  {
   "cell_type": "code",
   "execution_count": 19,
   "id": "6cd69794",
   "metadata": {},
   "outputs": [
    {
     "data": {
      "text/plain": [
       "<AxesSubplot:>"
      ]
     },
     "execution_count": 19,
     "metadata": {},
     "output_type": "execute_result"
    },
    {
     "data": {
      "image/png": "[encoded data removed]",
      "text/plain": [
       "<Figure size 640x480 with 1 Axes>"
      ]
     },
     "metadata": {},
     "output_type": "display_data"
    }
   ],
   "source": [
    "data[data['ordered_day']=='Thursday']['time_of_order'].value_counts().plot(kind='bar')"
   ]
  },
  {
   "cell_type": "markdown",
   "id": "2f54f0cd",
   "metadata": {},
   "source": [
    "## FOR  FRIDAY"
   ]
  },
  {
   "cell_type": "code",
   "execution_count": 20,
   "id": "55719afa",
   "metadata": {},
   "outputs": [
    {
     "data": {
      "text/plain": [
       "<AxesSubplot:>"
      ]
     },
     "execution_count": 20,
     "metadata": {},
     "output_type": "execute_result"
    },
    {
     "data": {
      "image/png": "[encoded data removed]",
      "text/plain": [
       "<Figure size 640x480 with 1 Axes>"
      ]
     },
     "metadata": {},
     "output_type": "display_data"
    }
   ],
   "source": [
    "data[data['ordered_day']=='Friday']['time_of_order'].value_counts().plot(kind='bar')"
   ]
  },
  {
   "cell_type": "markdown",
   "id": "31f8d682",
   "metadata": {},
   "source": [
    "## FOR SATURDAY"
   ]
  },
  {
   "cell_type": "code",
   "execution_count": 21,
   "id": "9f246e9a",
   "metadata": {},
   "outputs": [
    {
     "data": {
      "text/plain": [
       "<AxesSubplot:>"
      ]
     },
     "execution_count": 21,
     "metadata": {},
     "output_type": "execute_result"
    },
    {
     "data": {
      "image/png": "[encoded data removed]",
      "text/plain": [
       "<Figure size 640x480 with 1 Axes>"
      ]
     },
     "metadata": {},
     "output_type": "display_data"
    }
   ],
   "source": [
    "data[data['ordered_day']=='Saturday']['time_of_order'].value_counts().plot(kind='bar')"
   ]
  },
  {
   "cell_type": "markdown",
   "id": "a3e4f473",
   "metadata": {},
   "source": [
    "## FOR SUNDAY"
   ]
  },
  {
   "cell_type": "code",
   "execution_count": 22,
   "id": "5c01c89a",
   "metadata": {},
   "outputs": [
    {
     "data": {
      "text/plain": [
       "<AxesSubplot:>"
      ]
     },
     "execution_count": 22,
     "metadata": {},
     "output_type": "execute_result"
    },
    {
     "data": {
      "image/png": "[encoded data removed]",
      "text/plain": [
       "<Figure size 640x480 with 1 Axes>"
      ]
     },
     "metadata": {},
     "output_type": "display_data"
    }
   ],
   "source": [
    "data[data['ordered_day']=='Sunday']['time_of_order'].value_counts().plot(kind='bar')"
   ]
  },
  {
   "cell_type": "code",
   "execution_count": 23,
   "id": "a545fd18",
   "metadata": {},
   "outputs": [
    {
     "data": {
      "text/html": [
       "<div>\n",
       "<style scoped>\n",
       "    .dataframe tbody tr th:only-of-type {\n",
       "        vertical-align: middle;\n",
       "    }\n",
       "\n",
       "    .dataframe tbody tr th {\n",
       "        vertical-align: top;\n",
       "    }\n",
       "\n",
       "    .dataframe thead th {\n",
       "        text-align: right;\n",
       "    }\n",
       "</style>\n",
       "<table border=\"1\" class=\"dataframe\">\n",
       "  <thead>\n",
       "    <tr style=\"text-align: right;\">\n",
       "      <th></th>\n",
       "      <th>order_id</th>\n",
       "      <th>order_placed_at</th>\n",
       "      <th>order_delivered_at</th>\n",
       "      <th>ordered_day</th>\n",
       "      <th>delivered_day</th>\n",
       "      <th>time_taken</th>\n",
       "      <th>days</th>\n",
       "      <th>hours</th>\n",
       "      <th>minutes</th>\n",
       "      <th>time_of_order</th>\n",
       "      <th>date</th>\n",
       "    </tr>\n",
       "  </thead>\n",
       "  <tbody>\n",
       "    <tr>\n",
       "      <th>0</th>\n",
       "      <td>1523111</td>\n",
       "      <td>2023-03-01 00:00:59</td>\n",
       "      <td>2023-03-01 00:18:07.443132</td>\n",
       "      <td>Wednesday</td>\n",
       "      <td>Wednesday</td>\n",
       "      <td>0 days 00:17:08.443132</td>\n",
       "      <td>0</td>\n",
       "      <td>0</td>\n",
       "      <td>17</td>\n",
       "      <td>0</td>\n",
       "      <td>1</td>\n",
       "    </tr>\n",
       "    <tr>\n",
       "      <th>1</th>\n",
       "      <td>1523112</td>\n",
       "      <td>2023-03-01 00:03:59</td>\n",
       "      <td>2023-03-01 00:19:34.925241</td>\n",
       "      <td>Wednesday</td>\n",
       "      <td>Wednesday</td>\n",
       "      <td>0 days 00:15:35.925241</td>\n",
       "      <td>0</td>\n",
       "      <td>0</td>\n",
       "      <td>15</td>\n",
       "      <td>0</td>\n",
       "      <td>1</td>\n",
       "    </tr>\n",
       "    <tr>\n",
       "      <th>2</th>\n",
       "      <td>1523113</td>\n",
       "      <td>2023-03-01 00:07:22</td>\n",
       "      <td>2023-03-01 00:22:28.291385</td>\n",
       "      <td>Wednesday</td>\n",
       "      <td>Wednesday</td>\n",
       "      <td>0 days 00:15:06.291385</td>\n",
       "      <td>0</td>\n",
       "      <td>0</td>\n",
       "      <td>15</td>\n",
       "      <td>0</td>\n",
       "      <td>1</td>\n",
       "    </tr>\n",
       "    <tr>\n",
       "      <th>3</th>\n",
       "      <td>1523114</td>\n",
       "      <td>2023-03-01 00:07:47</td>\n",
       "      <td>2023-03-01 00:46:19.019399</td>\n",
       "      <td>Wednesday</td>\n",
       "      <td>Wednesday</td>\n",
       "      <td>0 days 00:38:32.019399</td>\n",
       "      <td>0</td>\n",
       "      <td>0</td>\n",
       "      <td>38</td>\n",
       "      <td>0</td>\n",
       "      <td>1</td>\n",
       "    </tr>\n",
       "    <tr>\n",
       "      <th>4</th>\n",
       "      <td>1523115</td>\n",
       "      <td>2023-03-01 00:09:03</td>\n",
       "      <td>2023-03-01 00:25:13.619056</td>\n",
       "      <td>Wednesday</td>\n",
       "      <td>Wednesday</td>\n",
       "      <td>0 days 00:16:10.619056</td>\n",
       "      <td>0</td>\n",
       "      <td>0</td>\n",
       "      <td>16</td>\n",
       "      <td>0</td>\n",
       "      <td>1</td>\n",
       "    </tr>\n",
       "    <tr>\n",
       "      <th>...</th>\n",
       "      <td>...</td>\n",
       "      <td>...</td>\n",
       "      <td>...</td>\n",
       "      <td>...</td>\n",
       "      <td>...</td>\n",
       "      <td>...</td>\n",
       "      <td>...</td>\n",
       "      <td>...</td>\n",
       "      <td>...</td>\n",
       "      <td>...</td>\n",
       "      <td>...</td>\n",
       "    </tr>\n",
       "    <tr>\n",
       "      <th>545</th>\n",
       "      <td>1523656</td>\n",
       "      <td>2023-03-01 23:42:11</td>\n",
       "      <td>2023-03-01 23:57:28.388495</td>\n",
       "      <td>Wednesday</td>\n",
       "      <td>Wednesday</td>\n",
       "      <td>0 days 00:15:17.388495</td>\n",
       "      <td>0</td>\n",
       "      <td>0</td>\n",
       "      <td>15</td>\n",
       "      <td>23</td>\n",
       "      <td>1</td>\n",
       "    </tr>\n",
       "    <tr>\n",
       "      <th>546</th>\n",
       "      <td>1523657</td>\n",
       "      <td>2023-03-01 23:43:12</td>\n",
       "      <td>2023-03-01 23:58:21.655915</td>\n",
       "      <td>Wednesday</td>\n",
       "      <td>Wednesday</td>\n",
       "      <td>0 days 00:15:09.655915</td>\n",
       "      <td>0</td>\n",
       "      <td>0</td>\n",
       "      <td>15</td>\n",
       "      <td>23</td>\n",
       "      <td>1</td>\n",
       "    </tr>\n",
       "    <tr>\n",
       "      <th>547</th>\n",
       "      <td>1523658</td>\n",
       "      <td>2023-03-01 23:44:48</td>\n",
       "      <td>2023-03-02 00:00:00.698796</td>\n",
       "      <td>Wednesday</td>\n",
       "      <td>Thursday</td>\n",
       "      <td>0 days 00:15:12.698796</td>\n",
       "      <td>0</td>\n",
       "      <td>0</td>\n",
       "      <td>15</td>\n",
       "      <td>23</td>\n",
       "      <td>1</td>\n",
       "    </tr>\n",
       "    <tr>\n",
       "      <th>548</th>\n",
       "      <td>1523659</td>\n",
       "      <td>2023-03-01 23:51:55</td>\n",
       "      <td>2023-03-02 00:07:00.605100</td>\n",
       "      <td>Wednesday</td>\n",
       "      <td>Thursday</td>\n",
       "      <td>0 days 00:15:05.605100</td>\n",
       "      <td>0</td>\n",
       "      <td>0</td>\n",
       "      <td>15</td>\n",
       "      <td>23</td>\n",
       "      <td>1</td>\n",
       "    </tr>\n",
       "    <tr>\n",
       "      <th>549</th>\n",
       "      <td>1523660</td>\n",
       "      <td>2023-03-01 23:58:03</td>\n",
       "      <td>2023-03-02 00:13:20.742908</td>\n",
       "      <td>Wednesday</td>\n",
       "      <td>Thursday</td>\n",
       "      <td>0 days 00:15:17.742908</td>\n",
       "      <td>0</td>\n",
       "      <td>0</td>\n",
       "      <td>15</td>\n",
       "      <td>23</td>\n",
       "      <td>1</td>\n",
       "    </tr>\n",
       "  </tbody>\n",
       "</table>\n",
       "<p>550 rows × 11 columns</p>\n",
       "</div>"
      ],
      "text/plain": [
       "     order_id     order_placed_at         order_delivered_at ordered_day  \\\n",
       "0     1523111 2023-03-01 00:00:59 2023-03-01 00:18:07.443132   Wednesday   \n",
       "1     1523112 2023-03-01 00:03:59 2023-03-01 00:19:34.925241   Wednesday   \n",
       "2     1523113 2023-03-01 00:07:22 2023-03-01 00:22:28.291385   Wednesday   \n",
       "3     1523114 2023-03-01 00:07:47 2023-03-01 00:46:19.019399   Wednesday   \n",
       "4     1523115 2023-03-01 00:09:03 2023-03-01 00:25:13.619056   Wednesday   \n",
       "..        ...                 ...                        ...         ...   \n",
       "545   1523656 2023-03-01 23:42:11 2023-03-01 23:57:28.388495   Wednesday   \n",
       "546   1523657 2023-03-01 23:43:12 2023-03-01 23:58:21.655915   Wednesday   \n",
       "547   1523658 2023-03-01 23:44:48 2023-03-02 00:00:00.698796   Wednesday   \n",
       "548   1523659 2023-03-01 23:51:55 2023-03-02 00:07:00.605100   Wednesday   \n",
       "549   1523660 2023-03-01 23:58:03 2023-03-02 00:13:20.742908   Wednesday   \n",
       "\n",
       "    delivered_day             time_taken  days  hours  minutes  time_of_order  \\\n",
       "0       Wednesday 0 days 00:17:08.443132     0      0       17              0   \n",
       "1       Wednesday 0 days 00:15:35.925241     0      0       15              0   \n",
       "2       Wednesday 0 days 00:15:06.291385     0      0       15              0   \n",
       "3       Wednesday 0 days 00:38:32.019399     0      0       38              0   \n",
       "4       Wednesday 0 days 00:16:10.619056     0      0       16              0   \n",
       "..            ...                    ...   ...    ...      ...            ...   \n",
       "545     Wednesday 0 days 00:15:17.388495     0      0       15             23   \n",
       "546     Wednesday 0 days 00:15:09.655915     0      0       15             23   \n",
       "547      Thursday 0 days 00:15:12.698796     0      0       15             23   \n",
       "548      Thursday 0 days 00:15:05.605100     0      0       15             23   \n",
       "549      Thursday 0 days 00:15:17.742908     0      0       15             23   \n",
       "\n",
       "     date  \n",
       "0       1  \n",
       "1       1  \n",
       "2       1  \n",
       "3       1  \n",
       "4       1  \n",
       "..    ...  \n",
       "545     1  \n",
       "546     1  \n",
       "547     1  \n",
       "548     1  \n",
       "549     1  \n",
       "\n",
       "[550 rows x 11 columns]"
      ]
     },
     "execution_count": 23,
     "metadata": {},
     "output_type": "execute_result"
    }
   ],
   "source": [
    "data[data['date']==1]"
   ]
  },
  {
   "cell_type": "markdown",
   "id": "d5b5cd07",
   "metadata": {},
   "source": [
    "* NEAR BY 550 ORDERS ARE PLACED IN DAY 01."
   ]
  },
  {
   "cell_type": "code",
   "execution_count": 41,
   "id": "d924612c",
   "metadata": {},
   "outputs": [
    {
     "name": "stdout",
     "output_type": "stream",
     "text": [
      "Monday 597\n",
      "Tuesday 570\n",
      "Wednesday 591\n",
      "Thursday 588\n",
      "Friday 587\n",
      "Saturday 567\n",
      "Sunday 582\n"
     ]
    }
   ],
   "source": [
    "#highest deliveries\n",
    "for i in ['Monday','Tuesday','Wednesday','Thursday','Friday','Saturday','Sunday']:\n",
    "    print(i,data[data['ordered_day']==i]['date'].value_counts().max())"
   ]
  },
  {
   "cell_type": "markdown",
   "id": "7eee64ef",
   "metadata": {},
   "source": [
    "* in each days the maximum order (or) highest deliveries are these"
   ]
  },
  {
   "cell_type": "code",
   "execution_count": 46,
   "id": "18e9cf1c",
   "metadata": {},
   "outputs": [
    {
     "data": {
      "text/plain": [
       "<AxesSubplot:>"
      ]
     },
     "execution_count": 46,
     "metadata": {},
     "output_type": "execute_result"
    },
    {
     "data": {
      "image/png": "[encoded data removed]",
      "text/plain": [
       "<Figure size 640x480 with 1 Axes>"
      ]
     },
     "metadata": {},
     "output_type": "display_data"
    }
   ],
   "source": [
    "data[data['ordered_day']=='Monday']['date'].value_counts().plot(kind='barh')"
   ]
  },
  {
   "cell_type": "markdown",
   "id": "55286421",
   "metadata": {},
   "source": [
    "* FOR MONDAY DEFFERENT DATE IN MONDAY"
   ]
  },
  {
   "cell_type": "code",
   "execution_count": null,
   "id": "34dfae04",
   "metadata": {},
   "outputs": [],
   "source": []
  }
 ],
 "metadata": {
  "kernelspec": {
   "display_name": "Python 3 (ipykernel)",
   "language": "python",
   "name": "python3"
  },
  "language_info": {
   "codemirror_mode": {
    "name": "ipython",
    "version": 3
   },
   "file_extension": ".py",
   "mimetype": "text/x-python",
   "name": "python",
   "nbconvert_exporter": "python",
   "pygments_lexer": "ipython3",
   "version": "3.9.12"
  }
 },
 "nbformat": 4,
 "nbformat_minor": 5
}
