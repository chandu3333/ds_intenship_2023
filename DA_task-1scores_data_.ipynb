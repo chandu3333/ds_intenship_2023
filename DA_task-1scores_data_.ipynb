{
 "cells": [
  {
   "cell_type": "code",
   "execution_count": 36,
   "id": "94b8895b",
   "metadata": {},
   "outputs": [],
   "source": [
    "import numpy as np\n",
    "import pandas as pd \n",
    "import seaborn as sb\n",
    "import matplotlib.pyplot as plt"
   ]
  },
  {
   "cell_type": "code",
   "execution_count": 20,
   "id": "a63395e9",
   "metadata": {},
   "outputs": [],
   "source": [
    "data = pd.read_csv(r'/Users/vamsi/Downloads/scores_data.csv')"
   ]
  },
  {
   "cell_type": "code",
   "execution_count": 21,
   "id": "4b36444c",
   "metadata": {
    "scrolled": true
   },
   "outputs": [
    {
     "data": {
      "text/html": [
       "<div>\n",
       "<style scoped>\n",
       "    .dataframe tbody tr th:only-of-type {\n",
       "        vertical-align: middle;\n",
       "    }\n",
       "\n",
       "    .dataframe tbody tr th {\n",
       "        vertical-align: top;\n",
       "    }\n",
       "\n",
       "    .dataframe thead th {\n",
       "        text-align: right;\n",
       "    }\n",
       "</style>\n",
       "<table border=\"1\" class=\"dataframe\">\n",
       "  <thead>\n",
       "    <tr style=\"text-align: right;\">\n",
       "      <th></th>\n",
       "      <th>Batch</th>\n",
       "      <th>User_ID</th>\n",
       "      <th>Score</th>\n",
       "    </tr>\n",
       "  </thead>\n",
       "  <tbody>\n",
       "    <tr>\n",
       "      <th>0</th>\n",
       "      <td>AI_ELITE_7</td>\n",
       "      <td>uid_149</td>\n",
       "      <td>6 / 7</td>\n",
       "    </tr>\n",
       "    <tr>\n",
       "      <th>1</th>\n",
       "      <td>AI_ELITE_7</td>\n",
       "      <td>uid_148</td>\n",
       "      <td>6 / 7</td>\n",
       "    </tr>\n",
       "    <tr>\n",
       "      <th>2</th>\n",
       "      <td>AI_ELITE_7</td>\n",
       "      <td>uid_147</td>\n",
       "      <td>7 / 7</td>\n",
       "    </tr>\n",
       "    <tr>\n",
       "      <th>3</th>\n",
       "      <td>AI_ELITE_7</td>\n",
       "      <td>uid_146</td>\n",
       "      <td>7 / 7</td>\n",
       "    </tr>\n",
       "    <tr>\n",
       "      <th>4</th>\n",
       "      <td>AI_ELITE_7</td>\n",
       "      <td>uid_145</td>\n",
       "      <td>4 / 7</td>\n",
       "    </tr>\n",
       "    <tr>\n",
       "      <th>...</th>\n",
       "      <td>...</td>\n",
       "      <td>...</td>\n",
       "      <td>...</td>\n",
       "    </tr>\n",
       "    <tr>\n",
       "      <th>144</th>\n",
       "      <td>AI_ELITE_4</td>\n",
       "      <td>uid_5</td>\n",
       "      <td>4 / 7</td>\n",
       "    </tr>\n",
       "    <tr>\n",
       "      <th>145</th>\n",
       "      <td>AI_ELITE_4</td>\n",
       "      <td>uid_4</td>\n",
       "      <td>4 / 7</td>\n",
       "    </tr>\n",
       "    <tr>\n",
       "      <th>146</th>\n",
       "      <td>AI_ELITE_4</td>\n",
       "      <td>uid_3</td>\n",
       "      <td>4 / 7</td>\n",
       "    </tr>\n",
       "    <tr>\n",
       "      <th>147</th>\n",
       "      <td>AI_ELITE_4</td>\n",
       "      <td>uid_2</td>\n",
       "      <td>3 / 7</td>\n",
       "    </tr>\n",
       "    <tr>\n",
       "      <th>148</th>\n",
       "      <td>AI_ELITE_4</td>\n",
       "      <td>uid_1</td>\n",
       "      <td>2 / 7</td>\n",
       "    </tr>\n",
       "  </tbody>\n",
       "</table>\n",
       "<p>149 rows × 3 columns</p>\n",
       "</div>"
      ],
      "text/plain": [
       "         Batch  User_ID     Score   \n",
       "0    AI_ELITE_7  uid_149       6 / 7\n",
       "1    AI_ELITE_7  uid_148       6 / 7\n",
       "2    AI_ELITE_7  uid_147       7 / 7\n",
       "3    AI_ELITE_7  uid_146       7 / 7\n",
       "4    AI_ELITE_7  uid_145       4 / 7\n",
       "..          ...      ...         ...\n",
       "144  AI_ELITE_4    uid_5       4 / 7\n",
       "145  AI_ELITE_4    uid_4       4 / 7\n",
       "146  AI_ELITE_4    uid_3       4 / 7\n",
       "147  AI_ELITE_4    uid_2       3 / 7\n",
       "148  AI_ELITE_4    uid_1       2 / 7\n",
       "\n",
       "[149 rows x 3 columns]"
      ]
     },
     "execution_count": 21,
     "metadata": {},
     "output_type": "execute_result"
    }
   ],
   "source": [
    "data"
   ]
  },
  {
   "cell_type": "code",
   "execution_count": 22,
   "id": "34f99961",
   "metadata": {},
   "outputs": [
    {
     "name": "stdout",
     "output_type": "stream",
     "text": [
      "<class 'pandas.core.frame.DataFrame'>\n",
      "RangeIndex: 149 entries, 0 to 148\n",
      "Data columns (total 3 columns):\n",
      " #   Column       Non-Null Count  Dtype \n",
      "---  ------       --------------  ----- \n",
      " 0   Batch        149 non-null    object\n",
      " 1   User_ID      149 non-null    object\n",
      " 2      Score     149 non-null    object\n",
      "dtypes: object(3)\n",
      "memory usage: 3.6+ KB\n"
     ]
    }
   ],
   "source": [
    "data.info()"
   ]
  },
  {
   "cell_type": "markdown",
   "id": "7761ab12",
   "metadata": {},
   "source": [
    "# CLEANING THE DATA"
   ]
  },
  {
   "cell_type": "code",
   "execution_count": 23,
   "id": "4e2629b3",
   "metadata": {},
   "outputs": [],
   "source": [
    "data.columns = data.columns.str.strip(' ')"
   ]
  },
  {
   "cell_type": "code",
   "execution_count": 24,
   "id": "dea48db5",
   "metadata": {},
   "outputs": [],
   "source": [
    "data['Score'] = data['Score'].str.replace(' / 7','').astype(int)"
   ]
  },
  {
   "cell_type": "code",
   "execution_count": 25,
   "id": "b53ecd02",
   "metadata": {},
   "outputs": [
    {
     "name": "stdout",
     "output_type": "stream",
     "text": [
      "<class 'pandas.core.frame.DataFrame'>\n",
      "RangeIndex: 149 entries, 0 to 148\n",
      "Data columns (total 3 columns):\n",
      " #   Column   Non-Null Count  Dtype \n",
      "---  ------   --------------  ----- \n",
      " 0   Batch    149 non-null    object\n",
      " 1   User_ID  149 non-null    object\n",
      " 2   Score    149 non-null    int64 \n",
      "dtypes: int64(1), object(2)\n",
      "memory usage: 3.6+ KB\n"
     ]
    }
   ],
   "source": [
    "data.info()"
   ]
  },
  {
   "cell_type": "markdown",
   "id": "05379691",
   "metadata": {},
   "source": [
    "# VISUALIZING THE DATA "
   ]
  },
  {
   "cell_type": "code",
   "execution_count": 28,
   "id": "26c97763",
   "metadata": {},
   "outputs": [
    {
     "name": "stderr",
     "output_type": "stream",
     "text": [
      "/Users/vamsi/opt/anaconda3/lib/python3.9/site-packages/seaborn/_decorators.py:36: FutureWarning: Pass the following variable as a keyword arg: x. From version 0.12, the only valid positional argument will be `data`, and passing other arguments without an explicit keyword will result in an error or misinterpretation.\n",
      "  warnings.warn(\n"
     ]
    },
    {
     "data": {
      "text/plain": [
       "<AxesSubplot:xlabel='Batch', ylabel='count'>"
      ]
     },
     "execution_count": 28,
     "metadata": {},
     "output_type": "execute_result"
    },
    {
     "data": {
      "image/png": "[encoded data removed]",
      "text/plain": [
       "<Figure size 640x480 with 1 Axes>"
      ]
     },
     "metadata": {},
     "output_type": "display_data"
    }
   ],
   "source": [
    "sb.countplot(data['Batch'])"
   ]
  },
  {
   "cell_type": "markdown",
   "id": "49a237f3",
   "metadata": {},
   "source": [
    "more number of student are present in batch 7 when compared to batch 6 and batch 4"
   ]
  },
  {
   "cell_type": "code",
   "execution_count": 32,
   "id": "91406f7e",
   "metadata": {},
   "outputs": [
    {
     "data": {
      "text/plain": [
       "<AxesSubplot:ylabel='Frequency'>"
      ]
     },
     "execution_count": 32,
     "metadata": {},
     "output_type": "execute_result"
    },
    {
     "data": {
      "image/png": "[encoded data removed]",
      "text/plain": [
       "<Figure size 640x480 with 1 Axes>"
      ]
     },
     "metadata": {},
     "output_type": "display_data"
    }
   ],
   "source": [
    "data[data['Batch']=='AI_ELITE_7'].plot(kind='hist')"
   ]
  },
  {
   "cell_type": "markdown",
   "id": "e09b089f",
   "metadata": {},
   "source": [
    "more of the students socred 6 out of 7 "
   ]
  },
  {
   "cell_type": "code",
   "execution_count": 33,
   "id": "dd76da2d",
   "metadata": {},
   "outputs": [
    {
     "data": {
      "text/plain": [
       "<AxesSubplot:ylabel='Frequency'>"
      ]
     },
     "execution_count": 33,
     "metadata": {},
     "output_type": "execute_result"
    },
    {
     "data": {
      "image/png": "[encoded data removed]",
      "text/plain": [
       "<Figure size 640x480 with 1 Axes>"
      ]
     },
     "metadata": {},
     "output_type": "display_data"
    }
   ],
   "source": [
    "data[data['Batch']=='AI_ELITE_6'].plot(kind='hist')"
   ]
  },
  {
   "cell_type": "markdown",
   "id": "1b7c6e71",
   "metadata": {},
   "source": [
    "more of the students socred 5 out of 7"
   ]
  },
  {
   "cell_type": "code",
   "execution_count": 34,
   "id": "248f39d5",
   "metadata": {},
   "outputs": [
    {
     "data": {
      "text/plain": [
       "<AxesSubplot:ylabel='Frequency'>"
      ]
     },
     "execution_count": 34,
     "metadata": {},
     "output_type": "execute_result"
    },
    {
     "data": {
      "image/png": "[encoded data removed]",
      "text/plain": [
       "<Figure size 640x480 with 1 Axes>"
      ]
     },
     "metadata": {},
     "output_type": "display_data"
    }
   ],
   "source": [
    "data[data['Batch']=='AI_ELITE_4'].plot(kind='hist')"
   ]
  },
  {
   "cell_type": "markdown",
   "id": "3533349f",
   "metadata": {},
   "source": [
    "more of the students socred 4 out of 7"
   ]
  },
  {
   "cell_type": "code",
   "execution_count": 49,
   "id": "336aab76",
   "metadata": {},
   "outputs": [],
   "source": [
    "avg4 = data[data['Batch']=='AI_ELITE_4']['Score'].mean()\n",
    "avg6 = data[data['Batch']=='AI_ELITE_6']['Score'].mean()\n",
    "avg7 = data[data['Batch']=='AI_ELITE_7']['Score'].mean()"
   ]
  },
  {
   "cell_type": "code",
   "execution_count": 68,
   "id": "0e43d466",
   "metadata": {},
   "outputs": [
    {
     "data": {
      "text/plain": [
       "Text(0.5, 1.0, 'avg of each batch')"
      ]
     },
     "execution_count": 68,
     "metadata": {},
     "output_type": "execute_result"
    },
    {
     "data": {
      "image/png": "[encoded data removed]",
      "text/plain": [
       "<Figure size 640x480 with 1 Axes>"
      ]
     },
     "metadata": {},
     "output_type": "display_data"
    }
   ],
   "source": [
    "sb.barplot(x=data['Batch'].unique()[::-1],y=[avg4,avg6,avg7])\n",
    "plt.title('avg of each batch')"
   ]
  },
  {
   "cell_type": "markdown",
   "id": "95fc8f0a",
   "metadata": {},
   "source": [
    "the avg of the batch is increasing compared to previous batch "
   ]
  },
  {
   "cell_type": "code",
   "execution_count": 88,
   "id": "f1860364",
   "metadata": {},
   "outputs": [],
   "source": [
    "ac4 = data[(data['Batch']=='AI_ELITE_4') & (data['Score']>avg4)]['Score'].value_counts().sum()\n",
    "ac6 = data[(data['Batch']=='AI_ELITE_6') & (data['Score']>avg6)]['Score'].value_counts().sum()\n",
    "ac7 = data[(data['Batch']=='AI_ELITE_7') & (data['Score']>avg7)]['Score'].value_counts().sum()"
   ]
  },
  {
   "cell_type": "code",
   "execution_count": 89,
   "id": "73692b16",
   "metadata": {},
   "outputs": [
    {
     "data": {
      "text/plain": [
       "Text(0.5, 1.0, 'number of students who have score more than avg in each batch')"
      ]
     },
     "execution_count": 89,
     "metadata": {},
     "output_type": "execute_result"
    },
    {
     "data": {
      "image/png": "[encoded data removed]",
      "text/plain": [
       "<Figure size 640x480 with 1 Axes>"
      ]
     },
     "metadata": {},
     "output_type": "display_data"
    }
   ],
   "source": [
    "sb.barplot(x=data['Batch'].unique()[::-1],y=[ac4,ac6,ac7])\n",
    "plt.title('number of students who have score more than avg in each batch')"
   ]
  },
  {
   "cell_type": "code",
   "execution_count": 93,
   "id": "c815a598",
   "metadata": {},
   "outputs": [],
   "source": [
    "ts4 = data[data['Batch']=='AI_ELITE_4']['Score'].value_counts().sum()\n",
    "ts6 = data[data['Batch']=='AI_ELITE_6']['Score'].value_counts().sum()\n",
    "ts7 = data[data['Batch']=='AI_ELITE_7']['Score'].value_counts().sum()"
   ]
  },
  {
   "cell_type": "code",
   "execution_count": 102,
   "id": "5b4af23a",
   "metadata": {},
   "outputs": [
    {
     "data": {
      "text/plain": [
       "<AxesSubplot:>"
      ]
     },
     "execution_count": 102,
     "metadata": {},
     "output_type": "execute_result"
    },
    {
     "data": {
      "image/png": "[encoded data removed]",
      "text/plain": [
       "<Figure size 640x480 with 1 Axes>"
      ]
     },
     "metadata": {},
     "output_type": "display_data"
    }
   ],
   "source": [
    "sb.barplot(x=data['Batch'].unique()[::-1],y=[ts4,ts6,ts7])\n",
    "sb.barplot(x=data['Batch'].unique()[::-1],y=[ac4,ac6,ac7],color=sb.color_palette(\"hls\", 8)[0])"
   ]
  },
  {
   "cell_type": "markdown",
   "id": "65268a84",
   "metadata": {},
   "source": [
    "in batch_4 64.583% of the students have scored more than avg score \n",
    "\n",
    "in batch_6 45.833% of the students have scored more than avg score\n",
    "\n",
    "in batch_7 43.339% of the students have scored more than avg score "
   ]
  },
  {
   "cell_type": "markdown",
   "id": "0916130c",
   "metadata": {},
   "source": [
    "# CONCLUSION "
   ]
  },
  {
   "cell_type": "markdown",
   "id": "83a22ee6",
   "metadata": {},
   "source": [
    "Even though avg of each batch increases when compared to previous bacth but number of students scoring nore than avg in each batch is beening decreased when compared to previous bacth"
   ]
  },
  {
   "cell_type": "code",
   "execution_count": null,
   "id": "487bbb37",
   "metadata": {},
   "outputs": [],
   "source": []
  },
  {
   "cell_type": "code",
   "execution_count": null,
   "id": "9a0ffef9",
   "metadata": {},
   "outputs": [],
   "source": []
  },
  {
   "cell_type": "code",
   "execution_count": null,
   "id": "41c10637",
   "metadata": {},
   "outputs": [],
   "source": []
  },
  {
   "cell_type": "code",
   "execution_count": null,
   "id": "42e02ad5",
   "metadata": {},
   "outputs": [],
   "source": []
  },
  {
   "cell_type": "code",
   "execution_count": null,
   "id": "761ea96c",
   "metadata": {},
   "outputs": [],
   "source": []
  },
  {
   "cell_type": "code",
   "execution_count": null,
   "id": "929bc0fb",
   "metadata": {},
   "outputs": [],
   "source": []
  },
  {
   "cell_type": "code",
   "execution_count": null,
   "id": "3706f87b",
   "metadata": {},
   "outputs": [],
   "source": []
  },
  {
   "cell_type": "code",
   "execution_count": null,
   "id": "ce73e2e5",
   "metadata": {},
   "outputs": [],
   "source": []
  },
  {
   "cell_type": "code",
   "execution_count": 106,
   "id": "d285a35a",
   "metadata": {},
   "outputs": [
    {
     "name": "stdout",
     "output_type": "stream",
     "text": [
      "Collecting pyshorteners\n",
      "  Using cached pyshorteners-1.0.1.tar.gz (10.0 kB)\n",
      "  Preparing metadata (setup.py) ... \u001b[?25ldone\n",
      "\u001b[?25hRequirement already satisfied: requests in /Users/vamsi/opt/anaconda3/lib/python3.9/site-packages (from pyshorteners) (2.28.1)\n",
      "Requirement already satisfied: certifi>=2017.4.17 in /Users/vamsi/opt/anaconda3/lib/python3.9/site-packages (from requests->pyshorteners) (2022.9.24)\n",
      "Requirement already satisfied: urllib3<1.27,>=1.21.1 in /Users/vamsi/opt/anaconda3/lib/python3.9/site-packages (from requests->pyshorteners) (1.26.11)\n",
      "Requirement already satisfied: idna<4,>=2.5 in /Users/vamsi/opt/anaconda3/lib/python3.9/site-packages (from requests->pyshorteners) (3.3)\n",
      "Requirement already satisfied: charset-normalizer<3,>=2 in /Users/vamsi/opt/anaconda3/lib/python3.9/site-packages (from requests->pyshorteners) (2.0.4)\n",
      "Building wheels for collected packages: pyshorteners\n",
      "  Building wheel for pyshorteners (setup.py) ... \u001b[?25ldone\n",
      "\u001b[?25h  Created wheel for pyshorteners: filename=pyshorteners-1.0.1-py3-none-any.whl size=17479 sha256=8dbf137c761036662b5339e6e2621753e11304f2e00c3d3419d870600e1e3b73\n",
      "  Stored in directory: /Users/vamsi/Library/Caches/pip/wheels/51/56/d8/765ad4c919190fbd24541487735547e6c665c9381d4d689ae8\n",
      "Successfully built pyshorteners\n",
      "Installing collected packages: pyshorteners\n",
      "Successfully installed pyshorteners-1.0.1\n",
      "Note: you may need to restart the kernel to use updated packages.\n"
     ]
    }
   ],
   "source": [
    "pip install pyshorteners"
   ]
  },
  {
   "cell_type": "code",
   "execution_count": 107,
   "id": "d7a501bb",
   "metadata": {},
   "outputs": [],
   "source": [
    "import pyshorteners as ps"
   ]
  },
  {
   "cell_type": "code",
   "execution_count": 109,
   "id": "96b8b2f2",
   "metadata": {},
   "outputs": [
    {
     "name": "stdout",
     "output_type": "stream",
     "text": [
      "Enter the URL to shorten: https://seaborn.pydata.org/tutorial/color_palettes.html\n",
      "https://tinyurl.com/29gtgq7n\n"
     ]
    }
   ],
   "source": [
    "long_url = input(\"Enter the URL to shorten: \")\n",
    "type_tiny = ps.Shortener()\n",
    "short_url = type_tiny.tinyurl.short(long_url)\n",
    "print(short_url)"
   ]
  },
  {
   "cell_type": "code",
   "execution_count": 112,
   "id": "367ad944",
   "metadata": {},
   "outputs": [
    {
     "data": {
      "text/plain": [
       "[0, 1, 2, 3, 4, 5, 6, 7, 8, 9]"
      ]
     },
     "execution_count": 112,
     "metadata": {},
     "output_type": "execute_result"
    }
   ],
   "source": []
  },
  {
   "cell_type": "code",
   "execution_count": null,
   "id": "1ed89d5d",
   "metadata": {},
   "outputs": [],
   "source": []
  }
 ],
 "metadata": {
  "kernelspec": {
   "display_name": "Python 3 (ipykernel)",
   "language": "python",
   "name": "python3"
  },
  "language_info": {
   "codemirror_mode": {
    "name": "ipython",
    "version": 3
   },
   "file_extension": ".py",
   "mimetype": "text/x-python",
   "name": "python",
   "nbconvert_exporter": "python",
   "pygments_lexer": "ipython3",
   "version": "3.9.12"
  }
 },
 "nbformat": 4,
 "nbformat_minor": 5
}
